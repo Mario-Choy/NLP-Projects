{
 "cells": [
  {
   "cell_type": "markdown",
   "id": "5802f337-f826-4d8f-ab06-aa1fd38b5f5a",
   "metadata": {},
   "source": [
    "Working on Natural Language Inference (NLI) using BERT. On [https://nlp.stanford.edu/projects/snli/]\n",
    "\n",
    "The task is, give two sentences: a premise and a hypothesis, to classify the relation between them. We have three classes to describe this relationship.\n",
    "\n",
    "1. Entailment: the hypothesis follows from the fact that the premise is true\n",
    "2. Contradiction: the hypothesis contradicts the fact that the premise is true\n",
    "3. Neutral: There is not relationship between premise and hypothesis"
   ]
  },
  {
   "cell_type": "code",
   "execution_count": 1,
   "id": "0a2c9e67-9f6a-45d3-a1e8-2959b679883f",
   "metadata": {},
   "outputs": [],
   "source": [
    "# Imports for most of the notebook\n",
    "import torch\n",
    "from transformers import BertModel\n",
    "from transformers import AutoTokenizer\n",
    "from typing import Dict, List\n",
    "from util import get_snli"
   ]
  },
  {
   "cell_type": "code",
   "execution_count": 2,
   "id": "0d39dfce-8a4c-4872-aa29-0e0f8a835651",
   "metadata": {},
   "outputs": [
    {
     "name": "stderr",
     "output_type": "stream",
     "text": [
      "Found cached dataset snli (/home/jovyan/.cache/huggingface/datasets/snli/plain_text/1.0.0/1f60b67533b65ae0275561ff7828aad5ee4282d0e6f844fd148d05d3c6ea251b)\n"
     ]
    },
    {
     "data": {
      "application/vnd.jupyter.widget-view+json": {
       "model_id": "30bbdac21f2347d59ae9784d82264321",
       "version_major": 2,
       "version_minor": 0
      },
      "text/plain": [
       "  0%|          | 0/3 [00:00<?, ?it/s]"
      ]
     },
     "metadata": {},
     "output_type": "display_data"
    },
    {
     "name": "stdout",
     "output_type": "stream",
     "text": [
      "Split sizes (num_samples, num_labels):\n",
      " {'test': (10000, 3), 'train': (550152, 3), 'validation': (10000, 3)}\n",
      "\n",
      "Example:\n",
      " {'premise': 'A person on a horse jumps over a broken down airplane.', 'hypothesis': 'A person is training his horse for a competition.', 'label': 1}\n"
     ]
    }
   ],
   "source": [
    "from datasets import load_dataset\n",
    "dataset = load_dataset(\"snli\")\n",
    "print(\"Split sizes (num_samples, num_labels):\\n\", dataset.shape)\n",
    "print(\"\\nExample:\\n\", dataset['train'][0])"
   ]
  },
  {
   "cell_type": "code",
   "execution_count": null,
   "id": "9519ca20-9cb6-4695-bd8f-55f0fbfe10da",
   "metadata": {},
   "outputs": [
    {
     "name": "stderr",
     "output_type": "stream",
     "text": [
      "Found cached dataset snli (/home/jovyan/.cache/huggingface/datasets/snli/plain_text/1.0.0/1f60b67533b65ae0275561ff7828aad5ee4282d0e6f844fd148d05d3c6ea251b)\n"
     ]
    },
    {
     "data": {
      "application/vnd.jupyter.widget-view+json": {
       "model_id": "94727f47995647d7803add0bfcfda7f3",
       "version_major": 2,
       "version_minor": 0
      },
      "text/plain": [
       "  0%|          | 0/3 [00:00<?, ?it/s]"
      ]
     },
     "metadata": {},
     "output_type": "display_data"
    },
    {
     "name": "stderr",
     "output_type": "stream",
     "text": [
      "Reading Datapoints:  76%|███████▌  | 418115/550152 [00:11<00:03, 39214.39it/s]"
     ]
    }
   ],
   "source": [
    "from util import get_snli\n",
    "\n",
    "train_dataset, validation_dataset, test_dataset = get_snli()"
   ]
  },
  {
   "cell_type": "code",
   "execution_count": null,
   "id": "4283c0f4-78d8-4aa4-b770-4a84cd35abc5",
   "metadata": {},
   "outputs": [],
   "source": []
  }
 ],
 "metadata": {
  "kernelspec": {
   "display_name": "Python 3 (ipykernel)",
   "language": "python",
   "name": "python3"
  },
  "language_info": {
   "codemirror_mode": {
    "name": "ipython",
    "version": 3
   },
   "file_extension": ".py",
   "mimetype": "text/x-python",
   "name": "python",
   "nbconvert_exporter": "python",
   "pygments_lexer": "ipython3",
   "version": "3.10.5"
  }
 },
 "nbformat": 4,
 "nbformat_minor": 5
}
